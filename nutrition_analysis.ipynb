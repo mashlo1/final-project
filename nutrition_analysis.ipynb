{
 "cells": [
  {
   "cell_type": "markdown",
   "metadata": {},
   "source": [
    "## CHIP690-335 Final Project: WIC-PC Weight Status in North Carolina (2016–2020)\n",
    "By Michelle Tumur\n",
    "\n",
    "Research Question\n",
    "- How does weight status (including obesity and overweight indicators) vary by race/ethnicity among WIC-participating children in North Carolina from 2016 to 2020?"
   ]
  },
  {
   "cell_type": "code",
   "execution_count": 1,
   "metadata": {},
   "outputs": [
    {
     "name": "stdout",
     "output_type": "stream",
     "text": [
      "Original Dataset Shape: (12852, 31)\n"
     ]
    },
    {
     "data": {
      "application/vnd.microsoft.datawrangler.viewer.v0+json": {
       "columns": [
        {
         "name": "index",
         "rawType": "int64",
         "type": "integer"
        },
        {
         "name": "YearStart",
         "rawType": "int64",
         "type": "integer"
        },
        {
         "name": "YearEnd",
         "rawType": "int64",
         "type": "integer"
        },
        {
         "name": "LocationAbbr",
         "rawType": "object",
         "type": "string"
        },
        {
         "name": "LocationDesc",
         "rawType": "object",
         "type": "string"
        },
        {
         "name": "Datasource",
         "rawType": "object",
         "type": "string"
        },
        {
         "name": "Class",
         "rawType": "object",
         "type": "string"
        },
        {
         "name": "Topic",
         "rawType": "object",
         "type": "string"
        },
        {
         "name": "Question",
         "rawType": "object",
         "type": "string"
        },
        {
         "name": "Data_Value_Unit",
         "rawType": "float64",
         "type": "float"
        },
        {
         "name": "Data_Value_Type",
         "rawType": "object",
         "type": "string"
        },
        {
         "name": "Data_Value",
         "rawType": "float64",
         "type": "float"
        },
        {
         "name": "Data_Value_Alt",
         "rawType": "float64",
         "type": "float"
        },
        {
         "name": "Data_Value_Footnote_Symbol",
         "rawType": "object",
         "type": "unknown"
        },
        {
         "name": "Data_Value_Footnote",
         "rawType": "object",
         "type": "unknown"
        },
        {
         "name": "Low_Confidence_Limit",
         "rawType": "float64",
         "type": "float"
        },
        {
         "name": "High_Confidence_Limit ",
         "rawType": "float64",
         "type": "float"
        },
        {
         "name": "Sample_Size",
         "rawType": "float64",
         "type": "float"
        },
        {
         "name": "Total",
         "rawType": "object",
         "type": "unknown"
        },
        {
         "name": "Age(months)",
         "rawType": "object",
         "type": "unknown"
        },
        {
         "name": "Sex",
         "rawType": "object",
         "type": "unknown"
        },
        {
         "name": "Race/Ethnicity",
         "rawType": "object",
         "type": "unknown"
        },
        {
         "name": "GeoLocation",
         "rawType": "object",
         "type": "string"
        },
        {
         "name": "ClassID",
         "rawType": "object",
         "type": "string"
        },
        {
         "name": "TopicID",
         "rawType": "object",
         "type": "string"
        },
        {
         "name": "QuestionID",
         "rawType": "object",
         "type": "string"
        },
        {
         "name": "DataValueTypeID",
         "rawType": "object",
         "type": "string"
        },
        {
         "name": "LocationID",
         "rawType": "int64",
         "type": "integer"
        },
        {
         "name": "StratificationCategory1",
         "rawType": "object",
         "type": "string"
        },
        {
         "name": "Stratification1",
         "rawType": "object",
         "type": "string"
        },
        {
         "name": "StratificationCategoryId1",
         "rawType": "object",
         "type": "string"
        },
        {
         "name": "StratificationID1",
         "rawType": "object",
         "type": "string"
        }
       ],
       "conversionMethod": "pd.DataFrame",
       "ref": "a16a82fb-2d25-4aa6-ad37-3c96b9c4e2da",
       "rows": [
        [
         "0",
         "2018",
         "2018",
         "WA",
         "Washington",
         "Women, Infants, and Children Participant and Program Characteristics",
         "Obesity / Weight Status",
         "Obesity / Weight Status",
         "Percent of WIC children aged 3-23 months old who have a high weight-for-length",
         null,
         "Value",
         "13.7",
         "13.7",
         null,
         null,
         "13.1",
         "14.3",
         "12230.0",
         null,
         "18 - 23",
         null,
         null,
         "(47.52227862900048, -120.47001078999972)",
         "OWS",
         "OWS1",
         "Q060",
         "VALUE",
         "53",
         "Age (months)",
         "18 - 23",
         "AGEMO",
         "AGEMO1823"
        ],
        [
         "1",
         "2018",
         "2018",
         "HI",
         "Hawaii",
         "Women, Infants, and Children Participant and Program Characteristics",
         "Obesity / Weight Status",
         "Obesity / Weight Status",
         "Percent of WIC children aged 3-23 months old who have a high weight-for-length",
         null,
         "Value",
         "10.2",
         "10.2",
         null,
         null,
         "8.9",
         "11.4",
         "2192.0",
         null,
         null,
         null,
         "Hispanic",
         "(21.304850435000446, -157.85774940299973)",
         "OWS",
         "OWS1",
         "Q060",
         "VALUE",
         "15",
         "Race/Ethnicity",
         "Hispanic",
         "RACE",
         "RACEHIS"
        ],
        [
         "2",
         "2020",
         "2020",
         "MA",
         "Massachusetts",
         "Women, Infants, and Children Participant and Program Characteristics",
         "Obesity / Weight Status",
         "Obesity / Weight Status",
         "Percent of WIC children aged 2 to 4 years who have an overweight classification",
         null,
         "Value",
         "17.6",
         "17.6",
         null,
         null,
         "17.0",
         "18.2",
         "13520.0",
         null,
         null,
         null,
         "Hispanic",
         "(42.27687047000046, -72.08269067499964)",
         "OWS",
         "OWS1",
         "Q040",
         "VALUE",
         "25",
         "Race/Ethnicity",
         "Hispanic",
         "RACE",
         "RACEHIS"
        ],
        [
         "3",
         "2020",
         "2020",
         "TN",
         "Tennessee",
         "Women, Infants, and Children Participant and Program Characteristics",
         "Obesity / Weight Status",
         "Obesity / Weight Status",
         "Percent of WIC children aged 2 to 4 years who have an overweight classification",
         null,
         "Value",
         "18.9",
         "18.9",
         null,
         null,
         "17.9",
         "20.1",
         "4947.0",
         null,
         null,
         null,
         "Hispanic",
         "(35.68094058000048, -85.77449091399967)",
         "OWS",
         "OWS1",
         "Q040",
         "VALUE",
         "47",
         "Race/Ethnicity",
         "Hispanic",
         "RACE",
         "RACEHIS"
        ],
        [
         "4",
         "2012",
         "2012",
         "GU",
         "Guam",
         "Women, Infants, and Children Participant and Program Characteristics",
         "Obesity / Weight Status",
         "Obesity / Weight Status",
         "Percent of WIC children aged 2 to 4 years who have obesity",
         null,
         "Value",
         "12.0",
         "12.0",
         null,
         null,
         "10.3",
         "13.6",
         "1456.0",
         null,
         null,
         "Male",
         null,
         "(13.444304, 144.793731)",
         "OWS",
         "OWS1",
         "Q041",
         "VALUE",
         "66",
         "Sex",
         "Male",
         "SEX",
         "MALE"
        ]
       ],
       "shape": {
        "columns": 31,
        "rows": 5
       }
      },
      "text/html": [
       "<div>\n",
       "<style scoped>\n",
       "    .dataframe tbody tr th:only-of-type {\n",
       "        vertical-align: middle;\n",
       "    }\n",
       "\n",
       "    .dataframe tbody tr th {\n",
       "        vertical-align: top;\n",
       "    }\n",
       "\n",
       "    .dataframe thead th {\n",
       "        text-align: right;\n",
       "    }\n",
       "</style>\n",
       "<table border=\"1\" class=\"dataframe\">\n",
       "  <thead>\n",
       "    <tr style=\"text-align: right;\">\n",
       "      <th></th>\n",
       "      <th>YearStart</th>\n",
       "      <th>YearEnd</th>\n",
       "      <th>LocationAbbr</th>\n",
       "      <th>LocationDesc</th>\n",
       "      <th>Datasource</th>\n",
       "      <th>Class</th>\n",
       "      <th>Topic</th>\n",
       "      <th>Question</th>\n",
       "      <th>Data_Value_Unit</th>\n",
       "      <th>Data_Value_Type</th>\n",
       "      <th>...</th>\n",
       "      <th>GeoLocation</th>\n",
       "      <th>ClassID</th>\n",
       "      <th>TopicID</th>\n",
       "      <th>QuestionID</th>\n",
       "      <th>DataValueTypeID</th>\n",
       "      <th>LocationID</th>\n",
       "      <th>StratificationCategory1</th>\n",
       "      <th>Stratification1</th>\n",
       "      <th>StratificationCategoryId1</th>\n",
       "      <th>StratificationID1</th>\n",
       "    </tr>\n",
       "  </thead>\n",
       "  <tbody>\n",
       "    <tr>\n",
       "      <th>0</th>\n",
       "      <td>2018</td>\n",
       "      <td>2018</td>\n",
       "      <td>WA</td>\n",
       "      <td>Washington</td>\n",
       "      <td>Women, Infants, and Children Participant and P...</td>\n",
       "      <td>Obesity / Weight Status</td>\n",
       "      <td>Obesity / Weight Status</td>\n",
       "      <td>Percent of WIC children aged 3-23 months old w...</td>\n",
       "      <td>NaN</td>\n",
       "      <td>Value</td>\n",
       "      <td>...</td>\n",
       "      <td>(47.52227862900048, -120.47001078999972)</td>\n",
       "      <td>OWS</td>\n",
       "      <td>OWS1</td>\n",
       "      <td>Q060</td>\n",
       "      <td>VALUE</td>\n",
       "      <td>53</td>\n",
       "      <td>Age (months)</td>\n",
       "      <td>18 - 23</td>\n",
       "      <td>AGEMO</td>\n",
       "      <td>AGEMO1823</td>\n",
       "    </tr>\n",
       "    <tr>\n",
       "      <th>1</th>\n",
       "      <td>2018</td>\n",
       "      <td>2018</td>\n",
       "      <td>HI</td>\n",
       "      <td>Hawaii</td>\n",
       "      <td>Women, Infants, and Children Participant and P...</td>\n",
       "      <td>Obesity / Weight Status</td>\n",
       "      <td>Obesity / Weight Status</td>\n",
       "      <td>Percent of WIC children aged 3-23 months old w...</td>\n",
       "      <td>NaN</td>\n",
       "      <td>Value</td>\n",
       "      <td>...</td>\n",
       "      <td>(21.304850435000446, -157.85774940299973)</td>\n",
       "      <td>OWS</td>\n",
       "      <td>OWS1</td>\n",
       "      <td>Q060</td>\n",
       "      <td>VALUE</td>\n",
       "      <td>15</td>\n",
       "      <td>Race/Ethnicity</td>\n",
       "      <td>Hispanic</td>\n",
       "      <td>RACE</td>\n",
       "      <td>RACEHIS</td>\n",
       "    </tr>\n",
       "    <tr>\n",
       "      <th>2</th>\n",
       "      <td>2020</td>\n",
       "      <td>2020</td>\n",
       "      <td>MA</td>\n",
       "      <td>Massachusetts</td>\n",
       "      <td>Women, Infants, and Children Participant and P...</td>\n",
       "      <td>Obesity / Weight Status</td>\n",
       "      <td>Obesity / Weight Status</td>\n",
       "      <td>Percent of WIC children aged 2 to 4 years who ...</td>\n",
       "      <td>NaN</td>\n",
       "      <td>Value</td>\n",
       "      <td>...</td>\n",
       "      <td>(42.27687047000046, -72.08269067499964)</td>\n",
       "      <td>OWS</td>\n",
       "      <td>OWS1</td>\n",
       "      <td>Q040</td>\n",
       "      <td>VALUE</td>\n",
       "      <td>25</td>\n",
       "      <td>Race/Ethnicity</td>\n",
       "      <td>Hispanic</td>\n",
       "      <td>RACE</td>\n",
       "      <td>RACEHIS</td>\n",
       "    </tr>\n",
       "    <tr>\n",
       "      <th>3</th>\n",
       "      <td>2020</td>\n",
       "      <td>2020</td>\n",
       "      <td>TN</td>\n",
       "      <td>Tennessee</td>\n",
       "      <td>Women, Infants, and Children Participant and P...</td>\n",
       "      <td>Obesity / Weight Status</td>\n",
       "      <td>Obesity / Weight Status</td>\n",
       "      <td>Percent of WIC children aged 2 to 4 years who ...</td>\n",
       "      <td>NaN</td>\n",
       "      <td>Value</td>\n",
       "      <td>...</td>\n",
       "      <td>(35.68094058000048, -85.77449091399967)</td>\n",
       "      <td>OWS</td>\n",
       "      <td>OWS1</td>\n",
       "      <td>Q040</td>\n",
       "      <td>VALUE</td>\n",
       "      <td>47</td>\n",
       "      <td>Race/Ethnicity</td>\n",
       "      <td>Hispanic</td>\n",
       "      <td>RACE</td>\n",
       "      <td>RACEHIS</td>\n",
       "    </tr>\n",
       "    <tr>\n",
       "      <th>4</th>\n",
       "      <td>2012</td>\n",
       "      <td>2012</td>\n",
       "      <td>GU</td>\n",
       "      <td>Guam</td>\n",
       "      <td>Women, Infants, and Children Participant and P...</td>\n",
       "      <td>Obesity / Weight Status</td>\n",
       "      <td>Obesity / Weight Status</td>\n",
       "      <td>Percent of WIC children aged 2 to 4 years who ...</td>\n",
       "      <td>NaN</td>\n",
       "      <td>Value</td>\n",
       "      <td>...</td>\n",
       "      <td>(13.444304, 144.793731)</td>\n",
       "      <td>OWS</td>\n",
       "      <td>OWS1</td>\n",
       "      <td>Q041</td>\n",
       "      <td>VALUE</td>\n",
       "      <td>66</td>\n",
       "      <td>Sex</td>\n",
       "      <td>Male</td>\n",
       "      <td>SEX</td>\n",
       "      <td>MALE</td>\n",
       "    </tr>\n",
       "  </tbody>\n",
       "</table>\n",
       "<p>5 rows × 31 columns</p>\n",
       "</div>"
      ],
      "text/plain": [
       "   YearStart  YearEnd LocationAbbr   LocationDesc  \\\n",
       "0       2018     2018           WA     Washington   \n",
       "1       2018     2018           HI         Hawaii   \n",
       "2       2020     2020           MA  Massachusetts   \n",
       "3       2020     2020           TN      Tennessee   \n",
       "4       2012     2012           GU           Guam   \n",
       "\n",
       "                                          Datasource                    Class  \\\n",
       "0  Women, Infants, and Children Participant and P...  Obesity / Weight Status   \n",
       "1  Women, Infants, and Children Participant and P...  Obesity / Weight Status   \n",
       "2  Women, Infants, and Children Participant and P...  Obesity / Weight Status   \n",
       "3  Women, Infants, and Children Participant and P...  Obesity / Weight Status   \n",
       "4  Women, Infants, and Children Participant and P...  Obesity / Weight Status   \n",
       "\n",
       "                     Topic                                           Question  \\\n",
       "0  Obesity / Weight Status  Percent of WIC children aged 3-23 months old w...   \n",
       "1  Obesity / Weight Status  Percent of WIC children aged 3-23 months old w...   \n",
       "2  Obesity / Weight Status  Percent of WIC children aged 2 to 4 years who ...   \n",
       "3  Obesity / Weight Status  Percent of WIC children aged 2 to 4 years who ...   \n",
       "4  Obesity / Weight Status  Percent of WIC children aged 2 to 4 years who ...   \n",
       "\n",
       "   Data_Value_Unit Data_Value_Type  ...  \\\n",
       "0              NaN           Value  ...   \n",
       "1              NaN           Value  ...   \n",
       "2              NaN           Value  ...   \n",
       "3              NaN           Value  ...   \n",
       "4              NaN           Value  ...   \n",
       "\n",
       "                                 GeoLocation  ClassID TopicID QuestionID  \\\n",
       "0   (47.52227862900048, -120.47001078999972)      OWS    OWS1       Q060   \n",
       "1  (21.304850435000446, -157.85774940299973)      OWS    OWS1       Q060   \n",
       "2    (42.27687047000046, -72.08269067499964)      OWS    OWS1       Q040   \n",
       "3    (35.68094058000048, -85.77449091399967)      OWS    OWS1       Q040   \n",
       "4                    (13.444304, 144.793731)      OWS    OWS1       Q041   \n",
       "\n",
       "   DataValueTypeID  LocationID  StratificationCategory1 Stratification1  \\\n",
       "0            VALUE          53             Age (months)         18 - 23   \n",
       "1            VALUE          15           Race/Ethnicity        Hispanic   \n",
       "2            VALUE          25           Race/Ethnicity        Hispanic   \n",
       "3            VALUE          47           Race/Ethnicity        Hispanic   \n",
       "4            VALUE          66                      Sex            Male   \n",
       "\n",
       "  StratificationCategoryId1 StratificationID1  \n",
       "0                     AGEMO         AGEMO1823  \n",
       "1                      RACE           RACEHIS  \n",
       "2                      RACE           RACEHIS  \n",
       "3                      RACE           RACEHIS  \n",
       "4                       SEX              MALE  \n",
       "\n",
       "[5 rows x 31 columns]"
      ]
     },
     "execution_count": 1,
     "metadata": {},
     "output_type": "execute_result"
    }
   ],
   "source": [
    "import pandas as pd\n",
    "import matplotlib.pyplot as plt\n",
    "import seaborn as sns\n",
    "\n",
    "sns.set_style(\"whitegrid\")\n",
    "colors = sns.color_palette(\"Set2\") \n",
    "\n",
    "# Loading the dataset\n",
    "df = pd.read_csv(\"Nutrition__Physical_Activity__and_Obesity_-_Women__Infant__and_Child_20250506.csv\")\n",
    "print(\"Original Dataset Shape:\", df.shape)\n",
    "df.head(5)  # Show first 5 rows"
   ]
  },
  {
   "cell_type": "code",
   "execution_count": 2,
   "metadata": {},
   "outputs": [
    {
     "name": "stdout",
     "output_type": "stream",
     "text": [
      "Initial shape: (12852, 31)\n",
      "Index(['YearStart', 'YearEnd', 'LocationAbbr', 'LocationDesc', 'Datasource',\n",
      "       'Class', 'Topic', 'Question', 'Data_Value_Unit', 'Data_Value_Type',\n",
      "       'Data_Value', 'Data_Value_Alt', 'Data_Value_Footnote_Symbol',\n",
      "       'Data_Value_Footnote', 'Low_Confidence_Limit', 'High_Confidence_Limit ',\n",
      "       'Sample_Size', 'Total', 'Age(months)', 'Sex', 'Race/Ethnicity',\n",
      "       'GeoLocation', 'ClassID', 'TopicID', 'QuestionID', 'DataValueTypeID',\n",
      "       'LocationID', 'StratificationCategory1', 'Stratification1',\n",
      "       'StratificationCategoryId1', 'StratificationID1'],\n",
      "      dtype='object')\n"
     ]
    }
   ],
   "source": [
    "# Showing initial structure of the code\n",
    "print(\"Initial shape:\", df.shape)\n",
    "print(df.columns)"
   ]
  },
  {
   "cell_type": "code",
   "execution_count": 3,
   "metadata": {},
   "outputs": [],
   "source": [
    "# Renaming columns\n",
    "df.rename(columns={\n",
    "    \"Age(months)\": \"Age_Months\",\n",
    "    \"Race/Ethnicity\": \"Race_Ethnicity\"\n",
    "}, inplace=True)"
   ]
  },
  {
   "cell_type": "markdown",
   "metadata": {},
   "source": [
    "## Filter for North Carolina and 2016–2020\n",
    "\n",
    "The analysis focuses on data only from the state of North Carolina between 2016 and 2020. It is also ensured that only valid percentages (non-null `Data_Value`) and health questions are included in the analysis.\n"
   ]
  },
  {
   "cell_type": "code",
   "execution_count": 4,
   "metadata": {},
   "outputs": [
    {
     "name": "stdout",
     "output_type": "stream",
     "text": [
      "🔹 Filtered Dataset Shape: (102, 31)\n"
     ]
    },
    {
     "data": {
      "application/vnd.microsoft.datawrangler.viewer.v0+json": {
       "columns": [
        {
         "name": "index",
         "rawType": "int64",
         "type": "integer"
        },
        {
         "name": "YearStart",
         "rawType": "int64",
         "type": "integer"
        },
        {
         "name": "Race_Ethnicity",
         "rawType": "object",
         "type": "unknown"
        },
        {
         "name": "Question",
         "rawType": "object",
         "type": "string"
        },
        {
         "name": "Data_Value",
         "rawType": "float64",
         "type": "float"
        }
       ],
       "conversionMethod": "pd.DataFrame",
       "ref": "553ccf68-5fbb-43ed-8bce-d2af00ddd3c7",
       "rows": [
        [
         "108",
         "2018",
         "Non-Hispanic White",
         "Percent of WIC children aged 2 to 4 years who have an overweight classification",
         "15.4"
        ],
        [
         "144",
         "2018",
         "Hispanic",
         "Percent of WIC children aged 3-23 months old who have a high weight-for-length",
         "13.9"
        ],
        [
         "161",
         "2018",
         null,
         "Percent of WIC children aged 2 to 4 years who have an overweight classification",
         "15.1"
        ],
        [
         "169",
         "2018",
         null,
         "Percent of WIC children aged 2 to 4 years who have obesity",
         "15.7"
        ],
        [
         "206",
         "2018",
         null,
         "Percent of WIC children aged 3-23 months old who have a high weight-for-length",
         "13.4"
        ],
        [
         "305",
         "2018",
         null,
         "Percent of WIC children aged 2 to 4 years who have an overweight classification",
         "15.2"
        ],
        [
         "490",
         "2018",
         "Non-Hispanic White",
         "Percent of WIC children aged 2 to 4 years who have obesity",
         "13.7"
        ],
        [
         "573",
         "2018",
         null,
         "Percent of WIC children aged 2 to 4 years who have obesity",
         "14.2"
        ],
        [
         "602",
         "2018",
         null,
         "Percent of WIC children aged 2 to 4 years who have an overweight classification",
         "15.2"
        ],
        [
         "605",
         "2018",
         "American Indian/Alaska Native",
         "Percent of WIC children aged 3-23 months old who have a high weight-for-length",
         "18.8"
        ]
       ],
       "shape": {
        "columns": 4,
        "rows": 10
       }
      },
      "text/html": [
       "<div>\n",
       "<style scoped>\n",
       "    .dataframe tbody tr th:only-of-type {\n",
       "        vertical-align: middle;\n",
       "    }\n",
       "\n",
       "    .dataframe tbody tr th {\n",
       "        vertical-align: top;\n",
       "    }\n",
       "\n",
       "    .dataframe thead th {\n",
       "        text-align: right;\n",
       "    }\n",
       "</style>\n",
       "<table border=\"1\" class=\"dataframe\">\n",
       "  <thead>\n",
       "    <tr style=\"text-align: right;\">\n",
       "      <th></th>\n",
       "      <th>YearStart</th>\n",
       "      <th>Race_Ethnicity</th>\n",
       "      <th>Question</th>\n",
       "      <th>Data_Value</th>\n",
       "    </tr>\n",
       "  </thead>\n",
       "  <tbody>\n",
       "    <tr>\n",
       "      <th>108</th>\n",
       "      <td>2018</td>\n",
       "      <td>Non-Hispanic White</td>\n",
       "      <td>Percent of WIC children aged 2 to 4 years who ...</td>\n",
       "      <td>15.4</td>\n",
       "    </tr>\n",
       "    <tr>\n",
       "      <th>144</th>\n",
       "      <td>2018</td>\n",
       "      <td>Hispanic</td>\n",
       "      <td>Percent of WIC children aged 3-23 months old w...</td>\n",
       "      <td>13.9</td>\n",
       "    </tr>\n",
       "    <tr>\n",
       "      <th>161</th>\n",
       "      <td>2018</td>\n",
       "      <td>NaN</td>\n",
       "      <td>Percent of WIC children aged 2 to 4 years who ...</td>\n",
       "      <td>15.1</td>\n",
       "    </tr>\n",
       "    <tr>\n",
       "      <th>169</th>\n",
       "      <td>2018</td>\n",
       "      <td>NaN</td>\n",
       "      <td>Percent of WIC children aged 2 to 4 years who ...</td>\n",
       "      <td>15.7</td>\n",
       "    </tr>\n",
       "    <tr>\n",
       "      <th>206</th>\n",
       "      <td>2018</td>\n",
       "      <td>NaN</td>\n",
       "      <td>Percent of WIC children aged 3-23 months old w...</td>\n",
       "      <td>13.4</td>\n",
       "    </tr>\n",
       "    <tr>\n",
       "      <th>305</th>\n",
       "      <td>2018</td>\n",
       "      <td>NaN</td>\n",
       "      <td>Percent of WIC children aged 2 to 4 years who ...</td>\n",
       "      <td>15.2</td>\n",
       "    </tr>\n",
       "    <tr>\n",
       "      <th>490</th>\n",
       "      <td>2018</td>\n",
       "      <td>Non-Hispanic White</td>\n",
       "      <td>Percent of WIC children aged 2 to 4 years who ...</td>\n",
       "      <td>13.7</td>\n",
       "    </tr>\n",
       "    <tr>\n",
       "      <th>573</th>\n",
       "      <td>2018</td>\n",
       "      <td>NaN</td>\n",
       "      <td>Percent of WIC children aged 2 to 4 years who ...</td>\n",
       "      <td>14.2</td>\n",
       "    </tr>\n",
       "    <tr>\n",
       "      <th>602</th>\n",
       "      <td>2018</td>\n",
       "      <td>NaN</td>\n",
       "      <td>Percent of WIC children aged 2 to 4 years who ...</td>\n",
       "      <td>15.2</td>\n",
       "    </tr>\n",
       "    <tr>\n",
       "      <th>605</th>\n",
       "      <td>2018</td>\n",
       "      <td>American Indian/Alaska Native</td>\n",
       "      <td>Percent of WIC children aged 3-23 months old w...</td>\n",
       "      <td>18.8</td>\n",
       "    </tr>\n",
       "  </tbody>\n",
       "</table>\n",
       "</div>"
      ],
      "text/plain": [
       "     YearStart                 Race_Ethnicity  \\\n",
       "108       2018             Non-Hispanic White   \n",
       "144       2018                       Hispanic   \n",
       "161       2018                            NaN   \n",
       "169       2018                            NaN   \n",
       "206       2018                            NaN   \n",
       "305       2018                            NaN   \n",
       "490       2018             Non-Hispanic White   \n",
       "573       2018                            NaN   \n",
       "602       2018                            NaN   \n",
       "605       2018  American Indian/Alaska Native   \n",
       "\n",
       "                                              Question  Data_Value  \n",
       "108  Percent of WIC children aged 2 to 4 years who ...        15.4  \n",
       "144  Percent of WIC children aged 3-23 months old w...        13.9  \n",
       "161  Percent of WIC children aged 2 to 4 years who ...        15.1  \n",
       "169  Percent of WIC children aged 2 to 4 years who ...        15.7  \n",
       "206  Percent of WIC children aged 3-23 months old w...        13.4  \n",
       "305  Percent of WIC children aged 2 to 4 years who ...        15.2  \n",
       "490  Percent of WIC children aged 2 to 4 years who ...        13.7  \n",
       "573  Percent of WIC children aged 2 to 4 years who ...        14.2  \n",
       "602  Percent of WIC children aged 2 to 4 years who ...        15.2  \n",
       "605  Percent of WIC children aged 3-23 months old w...        18.8  "
      ]
     },
     "metadata": {},
     "output_type": "display_data"
    }
   ],
   "source": [
    "filtered = df[\n",
    "    (df[\"LocationDesc\"] == \"North Carolina\") &\n",
    "    (df[\"YearStart\"] >= 2016) &\n",
    "    (df[\"YearStart\"] <= 2020) &\n",
    "    (df[\"Data_Value\"].notna()) &\n",
    "    (df[\"Question\"].notna())\n",
    "]\n",
    "\n",
    "print(\"🔹 Filtered Dataset Shape:\", filtered.shape)\n",
    "display(filtered[[\"YearStart\", \"Race_Ethnicity\", \"Question\", \"Data_Value\"]].head(10))"
   ]
  },
  {
   "cell_type": "markdown",
   "metadata": {},
   "source": [
    "## Group by Year, Race/Ethnicity, and Health Question\n",
    "\n",
    "The data is grouped to calculate the average percentage of children in each race/ethnicity category with a specific weight-related condition in each year. This will allow us to visualize trends over time for different health indicators.\n"
   ]
  },
  {
   "cell_type": "code",
   "execution_count": 5,
   "metadata": {},
   "outputs": [
    {
     "name": "stdout",
     "output_type": "stream",
     "text": [
      "🔹 Grouped by Year, Race, and Question:\n"
     ]
    },
    {
     "data": {
      "application/vnd.microsoft.datawrangler.viewer.v0+json": {
       "columns": [
        {
         "name": "index",
         "rawType": "int64",
         "type": "integer"
        },
        {
         "name": "YearStart",
         "rawType": "int64",
         "type": "integer"
        },
        {
         "name": "Race_Ethnicity",
         "rawType": "object",
         "type": "string"
        },
        {
         "name": "Question",
         "rawType": "object",
         "type": "string"
        },
        {
         "name": "Data_Value",
         "rawType": "float64",
         "type": "float"
        }
       ],
       "conversionMethod": "pd.DataFrame",
       "ref": "9013eb1b-8754-4e07-93b5-2c49a863158d",
       "rows": [
        [
         "0",
         "2016",
         "American Indian/Alaska Native",
         "Percent of WIC children aged 2 to 4 years who have an overweight classification",
         "18.0"
        ],
        [
         "1",
         "2016",
         "American Indian/Alaska Native",
         "Percent of WIC children aged 2 to 4 years who have obesity",
         "18.0"
        ],
        [
         "2",
         "2016",
         "American Indian/Alaska Native",
         "Percent of WIC children aged 3-23 months old who have a high weight-for-length",
         "19.3"
        ],
        [
         "3",
         "2016",
         "Asian/Pacific Islander",
         "Percent of WIC children aged 2 to 4 years who have an overweight classification",
         "13.5"
        ],
        [
         "4",
         "2016",
         "Asian/Pacific Islander",
         "Percent of WIC children aged 2 to 4 years who have obesity",
         "11.2"
        ],
        [
         "5",
         "2016",
         "Asian/Pacific Islander",
         "Percent of WIC children aged 3-23 months old who have a high weight-for-length",
         "7.6"
        ],
        [
         "6",
         "2016",
         "Hispanic",
         "Percent of WIC children aged 2 to 4 years who have an overweight classification",
         "17.3"
        ],
        [
         "7",
         "2016",
         "Hispanic",
         "Percent of WIC children aged 2 to 4 years who have obesity",
         "18.2"
        ],
        [
         "8",
         "2016",
         "Hispanic",
         "Percent of WIC children aged 3-23 months old who have a high weight-for-length",
         "13.2"
        ],
        [
         "9",
         "2016",
         "Non-Hispanic Black",
         "Percent of WIC children aged 2 to 4 years who have an overweight classification",
         "13.6"
        ]
       ],
       "shape": {
        "columns": 4,
        "rows": 10
       }
      },
      "text/html": [
       "<div>\n",
       "<style scoped>\n",
       "    .dataframe tbody tr th:only-of-type {\n",
       "        vertical-align: middle;\n",
       "    }\n",
       "\n",
       "    .dataframe tbody tr th {\n",
       "        vertical-align: top;\n",
       "    }\n",
       "\n",
       "    .dataframe thead th {\n",
       "        text-align: right;\n",
       "    }\n",
       "</style>\n",
       "<table border=\"1\" class=\"dataframe\">\n",
       "  <thead>\n",
       "    <tr style=\"text-align: right;\">\n",
       "      <th></th>\n",
       "      <th>YearStart</th>\n",
       "      <th>Race_Ethnicity</th>\n",
       "      <th>Question</th>\n",
       "      <th>Data_Value</th>\n",
       "    </tr>\n",
       "  </thead>\n",
       "  <tbody>\n",
       "    <tr>\n",
       "      <th>0</th>\n",
       "      <td>2016</td>\n",
       "      <td>American Indian/Alaska Native</td>\n",
       "      <td>Percent of WIC children aged 2 to 4 years who ...</td>\n",
       "      <td>18.0</td>\n",
       "    </tr>\n",
       "    <tr>\n",
       "      <th>1</th>\n",
       "      <td>2016</td>\n",
       "      <td>American Indian/Alaska Native</td>\n",
       "      <td>Percent of WIC children aged 2 to 4 years who ...</td>\n",
       "      <td>18.0</td>\n",
       "    </tr>\n",
       "    <tr>\n",
       "      <th>2</th>\n",
       "      <td>2016</td>\n",
       "      <td>American Indian/Alaska Native</td>\n",
       "      <td>Percent of WIC children aged 3-23 months old w...</td>\n",
       "      <td>19.3</td>\n",
       "    </tr>\n",
       "    <tr>\n",
       "      <th>3</th>\n",
       "      <td>2016</td>\n",
       "      <td>Asian/Pacific Islander</td>\n",
       "      <td>Percent of WIC children aged 2 to 4 years who ...</td>\n",
       "      <td>13.5</td>\n",
       "    </tr>\n",
       "    <tr>\n",
       "      <th>4</th>\n",
       "      <td>2016</td>\n",
       "      <td>Asian/Pacific Islander</td>\n",
       "      <td>Percent of WIC children aged 2 to 4 years who ...</td>\n",
       "      <td>11.2</td>\n",
       "    </tr>\n",
       "    <tr>\n",
       "      <th>5</th>\n",
       "      <td>2016</td>\n",
       "      <td>Asian/Pacific Islander</td>\n",
       "      <td>Percent of WIC children aged 3-23 months old w...</td>\n",
       "      <td>7.6</td>\n",
       "    </tr>\n",
       "    <tr>\n",
       "      <th>6</th>\n",
       "      <td>2016</td>\n",
       "      <td>Hispanic</td>\n",
       "      <td>Percent of WIC children aged 2 to 4 years who ...</td>\n",
       "      <td>17.3</td>\n",
       "    </tr>\n",
       "    <tr>\n",
       "      <th>7</th>\n",
       "      <td>2016</td>\n",
       "      <td>Hispanic</td>\n",
       "      <td>Percent of WIC children aged 2 to 4 years who ...</td>\n",
       "      <td>18.2</td>\n",
       "    </tr>\n",
       "    <tr>\n",
       "      <th>8</th>\n",
       "      <td>2016</td>\n",
       "      <td>Hispanic</td>\n",
       "      <td>Percent of WIC children aged 3-23 months old w...</td>\n",
       "      <td>13.2</td>\n",
       "    </tr>\n",
       "    <tr>\n",
       "      <th>9</th>\n",
       "      <td>2016</td>\n",
       "      <td>Non-Hispanic Black</td>\n",
       "      <td>Percent of WIC children aged 2 to 4 years who ...</td>\n",
       "      <td>13.6</td>\n",
       "    </tr>\n",
       "  </tbody>\n",
       "</table>\n",
       "</div>"
      ],
      "text/plain": [
       "   YearStart                 Race_Ethnicity  \\\n",
       "0       2016  American Indian/Alaska Native   \n",
       "1       2016  American Indian/Alaska Native   \n",
       "2       2016  American Indian/Alaska Native   \n",
       "3       2016         Asian/Pacific Islander   \n",
       "4       2016         Asian/Pacific Islander   \n",
       "5       2016         Asian/Pacific Islander   \n",
       "6       2016                       Hispanic   \n",
       "7       2016                       Hispanic   \n",
       "8       2016                       Hispanic   \n",
       "9       2016             Non-Hispanic Black   \n",
       "\n",
       "                                            Question  Data_Value  \n",
       "0  Percent of WIC children aged 2 to 4 years who ...        18.0  \n",
       "1  Percent of WIC children aged 2 to 4 years who ...        18.0  \n",
       "2  Percent of WIC children aged 3-23 months old w...        19.3  \n",
       "3  Percent of WIC children aged 2 to 4 years who ...        13.5  \n",
       "4  Percent of WIC children aged 2 to 4 years who ...        11.2  \n",
       "5  Percent of WIC children aged 3-23 months old w...         7.6  \n",
       "6  Percent of WIC children aged 2 to 4 years who ...        17.3  \n",
       "7  Percent of WIC children aged 2 to 4 years who ...        18.2  \n",
       "8  Percent of WIC children aged 3-23 months old w...        13.2  \n",
       "9  Percent of WIC children aged 2 to 4 years who ...        13.6  "
      ]
     },
     "metadata": {},
     "output_type": "display_data"
    }
   ],
   "source": [
    "grouped = (\n",
    "    filtered\n",
    "    .groupby([\"YearStart\", \"Race_Ethnicity\", \"Question\"])[\"Data_Value\"]\n",
    "    .mean()\n",
    "    .reset_index()\n",
    ")\n",
    "\n",
    "print(\"🔹 Grouped by Year, Race, and Question:\")\n",
    "display(grouped.head(10))"
   ]
  },
  {
   "cell_type": "markdown",
   "metadata": {},
   "source": [
    "## Visualize Trends by Health Condition\n",
    "\n",
    "Below, line plots were created for each health question (e.g., high weight-for-length, overweight, etc.). Each line represents a racial/ethnic group. This allows us to examine trends from 2016 to 2020 and identify any disparities or consistent patterns."
   ]
  },
  {
   "cell_type": "code",
   "execution_count": 6,
   "metadata": {},
   "outputs": [
    {
     "data": {
      "image/png": "[encoded data removed]",
      "text/plain": [
       "<Figure size 1000x600 with 1 Axes>"
      ]
     },
     "metadata": {},
     "output_type": "display_data"
    },
    {
     "data": {
      "image/png": "[encoded data removed]",
      "text/plain": [
       "<Figure size 1000x600 with 1 Axes>"
      ]
     },
     "metadata": {},
     "output_type": "display_data"
    },
    {
     "data": {
      "image/png": "[encoded data removed]",
      "text/plain": [
       "<Figure size 1000x600 with 1 Axes>"
      ]
     },
     "metadata": {},
     "output_type": "display_data"
    }
   ],
   "source": [
    "# Unique health-related questions (conditions)\n",
    "questions = grouped[\"Question\"].unique()\n",
    "colors = sns.color_palette(\"tab10\")\n",
    "sns.set_style(\"whitegrid\")\n",
    "\n",
    "# Create one line chart per health condition\n",
    "for q in questions:\n",
    "    subset = grouped[grouped[\"Question\"] == q]\n",
    "\n",
    "    plt.figure(figsize=(10, 6))\n",
    "    for i, race in enumerate(subset[\"Race_Ethnicity\"].unique()):\n",
    "        race_data = subset[subset[\"Race_Ethnicity\"] == race]\n",
    "        plt.plot(\n",
    "            race_data[\"YearStart\"],\n",
    "            race_data[\"Data_Value\"],\n",
    "            marker='o',\n",
    "            label=race,\n",
    "            color=colors[i % len(colors)],\n",
    "            linewidth=2\n",
    "        )\n",
    "\n",
    "    plt.title(q, fontsize=14)\n",
    "    plt.xlabel(\"Year\", fontsize=12)\n",
    "    plt.ylabel(\"Percent of Children\", fontsize=12)\n",
    "    plt.xticks([2016, 2017, 2018, 2019, 2020])\n",
    "    plt.ylim(0, subset[\"Data_Value\"].max() + 5)\n",
    "    plt.legend(title=\"Race/Ethnicity\")\n",
    "    plt.grid(True)\n",
    "    plt.tight_layout()\n",
    "    plt.savefig(f\"nc_wic_question_trend_{q[:30].replace(' ', '_')}.png\")  # Save first 30 chars\n",
    "    plt.show()\n"
   ]
  },
  {
   "cell_type": "markdown",
   "metadata": {},
   "source": [
    "## Summary of Findings, Limitations, and Ideas for the Future\n",
    "\n",
    "In this project, we looked at data from North Carolina to understand trends in weight-related health issues among WIC-enrolled children under the age of 2, from 2016 to 2020. We focused on questions like how many children had high weight-for-length or were considered overweight, and we broke the data down by race and ethnicity. Overall, the percentages stayed pretty steady over the five years, but we did see some differences between racial groups. For example, Hispanic and Black children often had higher percentages in some categories, which might be related to bigger issues like access to healthy food or differences in living conditions.\n",
    "\n",
    "There are a few important limitations to keep in mind. First, this data only comes from one state, so we can’t assume the same patterns would happen everywhere. Also, it’s based on summary data — not individual records — which means we can’t look more deeply into personal factors like family income or neighborhood environment. Plus, we can’t really explain *why* these differences happen, only that they exist.\n",
    "\n",
    "In the future, it would be helpful to look at other states or compare states with different policies. If we could connect this dataset with other information (like income or location), we might learn more about what’s driving the differences. This kind of research could help make public health programs like WIC more targeted and effective."
   ]
  }
 ],
 "metadata": {
  "kernelspec": {
   "display_name": "Python 3.13 (descriptive-milk)",
   "language": "python",
   "name": "descriptive-milk"
  },
  "language_info": {
   "codemirror_mode": {
    "name": "ipython",
    "version": 3
   },
   "file_extension": ".py",
   "mimetype": "text/x-python",
   "name": "python",
   "nbconvert_exporter": "python",
   "pygments_lexer": "ipython3",
   "version": "3.13.1"
  }
 },
 "nbformat": 4,
 "nbformat_minor": 2
}
